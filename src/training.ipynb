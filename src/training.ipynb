{
 "cells": [
  {
   "cell_type": "code",
   "id": "initial_id",
   "metadata": {
    "collapsed": true,
    "ExecuteTime": {
     "end_time": "2024-12-26T20:57:45.396022Z",
     "start_time": "2024-12-26T20:57:45.393148Z"
    }
   },
   "source": [
    "import torch\n",
    "import torch.nn as nn\n",
    "import matplotlib.pyplot as plt\n",
    "from env_hiv import HIVPatient\n",
    "from DQN_agent import dqn_agent"
   ],
   "outputs": [],
   "execution_count": 4
  },
  {
   "metadata": {
    "ExecuteTime": {
     "end_time": "2024-12-26T21:04:04.562680Z",
     "start_time": "2024-12-26T20:58:27.724090Z"
    }
   },
   "cell_type": "code",
   "source": [
    "device = torch.device(\"cuda\" if torch.cuda.is_available() else \"cpu\")\n",
    "\n",
    "environment = HIVPatient()\n",
    "# Declare network\n",
    "state_dim = environment.observation_space.shape[0]\n",
    "n_action = environment.action_space.n \n",
    "nb_neurons=24\n",
    "DQN = torch.nn.Sequential(nn.Linear(state_dim, nb_neurons),\n",
    "                          nn.ReLU(),\n",
    "                          nn.Linear(nb_neurons, nb_neurons),\n",
    "                          nn.ReLU(), \n",
    "                          nn.Linear(nb_neurons, n_action)).to(device)\n",
    "\n",
    "# DQN config\n",
    "config = {'nb_actions': environment.action_space.n,\n",
    "          'learning_rate': 0.001,\n",
    "          'gamma': 0.95,\n",
    "          'buffer_size': 1000000,\n",
    "          'epsilon_min': 0.01,\n",
    "          'epsilon_max': 1.,\n",
    "          'epsilon_decay_period': 1000,\n",
    "          'epsilon_delay_decay': 20,\n",
    "          'batch_size': 20,\n",
    "          'use_Huber_loss': False,\n",
    "          'gradient_steps': 1}\n",
    "\n",
    "# Train agent\n",
    "agent = dqn_agent(config, DQN)\n",
    "scores = agent.train(environment, 200)\n",
    "plt.plot(scores)"
   ],
   "id": "cab3478f9cf1bf3e",
   "outputs": [
    {
     "ename": "KeyboardInterrupt",
     "evalue": "",
     "output_type": "error",
     "traceback": [
      "\u001B[0;31m---------------------------------------------------------------------------\u001B[0m",
      "\u001B[0;31mKeyboardInterrupt\u001B[0m                         Traceback (most recent call last)",
      "Cell \u001B[0;32mIn[6], line 29\u001B[0m\n\u001B[1;32m     27\u001B[0m \u001B[38;5;66;03m# Train agent\u001B[39;00m\n\u001B[1;32m     28\u001B[0m agent \u001B[38;5;241m=\u001B[39m dqn_agent(config, DQN)\n\u001B[0;32m---> 29\u001B[0m scores \u001B[38;5;241m=\u001B[39m \u001B[43magent\u001B[49m\u001B[38;5;241;43m.\u001B[39;49m\u001B[43mtrain\u001B[49m\u001B[43m(\u001B[49m\u001B[43menvironment\u001B[49m\u001B[43m,\u001B[49m\u001B[43m \u001B[49m\u001B[38;5;241;43m200\u001B[39;49m\u001B[43m)\u001B[49m\n\u001B[1;32m     30\u001B[0m plt\u001B[38;5;241m.\u001B[39mplot(scores)\n",
      "File \u001B[0;32m~/Documents/A-MVA/S1/Projet-RL/GitHub/mva-rl-assignment-martinjolif/src/DQN_agent.py:67\u001B[0m, in \u001B[0;36mdqn_agent.train\u001B[0;34m(self, env, max_episode)\u001B[0m\n\u001B[1;32m     63\u001B[0m     action \u001B[38;5;241m=\u001B[39m greedy_action(\u001B[38;5;28mself\u001B[39m\u001B[38;5;241m.\u001B[39mmodel, state)\n\u001B[1;32m     66\u001B[0m \u001B[38;5;66;03m# step\u001B[39;00m\n\u001B[0;32m---> 67\u001B[0m next_state, reward, done, trunc, _ \u001B[38;5;241m=\u001B[39m \u001B[43menv\u001B[49m\u001B[38;5;241;43m.\u001B[39;49m\u001B[43mstep\u001B[49m\u001B[43m(\u001B[49m\u001B[43maction\u001B[49m\u001B[43m)\u001B[49m\n\u001B[1;32m     68\u001B[0m \u001B[38;5;28mself\u001B[39m\u001B[38;5;241m.\u001B[39mmemory\u001B[38;5;241m.\u001B[39mappend(state, action, reward, next_state, done)\n\u001B[1;32m     69\u001B[0m episode_cum_reward \u001B[38;5;241m+\u001B[39m\u001B[38;5;241m=\u001B[39m reward\n",
      "File \u001B[0;32m~/Documents/A-MVA/S1/Projet-RL/GitHub/mva-rl-assignment-martinjolif/src/env_hiv.py:231\u001B[0m, in \u001B[0;36mHIVPatient.step\u001B[0;34m(self, a_index)\u001B[0m\n\u001B[1;32m    229\u001B[0m state \u001B[38;5;241m=\u001B[39m \u001B[38;5;28mself\u001B[39m\u001B[38;5;241m.\u001B[39mstate()\n\u001B[1;32m    230\u001B[0m action \u001B[38;5;241m=\u001B[39m \u001B[38;5;28mself\u001B[39m\u001B[38;5;241m.\u001B[39maction_set[a_index]\n\u001B[0;32m--> 231\u001B[0m state2 \u001B[38;5;241m=\u001B[39m \u001B[38;5;28;43mself\u001B[39;49m\u001B[38;5;241;43m.\u001B[39;49m\u001B[43mtransition\u001B[49m\u001B[43m(\u001B[49m\u001B[43mstate\u001B[49m\u001B[43m,\u001B[49m\u001B[43m \u001B[49m\u001B[43maction\u001B[49m\u001B[43m,\u001B[49m\u001B[43m \u001B[49m\u001B[38;5;241;43m5\u001B[39;49m\u001B[43m)\u001B[49m\n\u001B[1;32m    232\u001B[0m rew \u001B[38;5;241m=\u001B[39m \u001B[38;5;28mself\u001B[39m\u001B[38;5;241m.\u001B[39mreward(state, action, state2)\n\u001B[1;32m    233\u001B[0m \u001B[38;5;28;01mif\u001B[39;00m \u001B[38;5;28mself\u001B[39m\u001B[38;5;241m.\u001B[39mclipping:\n",
      "File \u001B[0;32m~/Documents/A-MVA/S1/Projet-RL/GitHub/mva-rl-assignment-martinjolif/src/env_hiv.py:212\u001B[0m, in \u001B[0;36mHIVPatient.transition\u001B[0;34m(self, state, action, duration)\u001B[0m\n\u001B[1;32m    210\u001B[0m nb_steps \u001B[38;5;241m=\u001B[39m \u001B[38;5;28mint\u001B[39m(duration \u001B[38;5;241m/\u001B[39m\u001B[38;5;241m/\u001B[39m \u001B[38;5;241m1e-3\u001B[39m)\n\u001B[1;32m    211\u001B[0m \u001B[38;5;28;01mfor\u001B[39;00m i \u001B[38;5;129;01min\u001B[39;00m \u001B[38;5;28mrange\u001B[39m(nb_steps):\n\u001B[0;32m--> 212\u001B[0m     der \u001B[38;5;241m=\u001B[39m \u001B[38;5;28;43mself\u001B[39;49m\u001B[38;5;241;43m.\u001B[39;49m\u001B[43mder\u001B[49m\u001B[43m(\u001B[49m\u001B[43mstate0\u001B[49m\u001B[43m,\u001B[49m\u001B[43m \u001B[49m\u001B[43maction\u001B[49m\u001B[43m)\u001B[49m\n\u001B[1;32m    213\u001B[0m     state1 \u001B[38;5;241m=\u001B[39m state0 \u001B[38;5;241m+\u001B[39m der \u001B[38;5;241m*\u001B[39m \u001B[38;5;241m1e-3\u001B[39m\n\u001B[1;32m    215\u001B[0m     \u001B[38;5;66;03m# np.clip(state1, self.lower, self.upper, out=state1)\u001B[39;00m\n",
      "File \u001B[0;32m~/Documents/A-MVA/S1/Projet-RL/GitHub/mva-rl-assignment-martinjolif/src/env_hiv.py:204\u001B[0m, in \u001B[0;36mHIVPatient.der\u001B[0;34m(self, state, action)\u001B[0m\n\u001B[1;32m    189\u001B[0m Vdot \u001B[38;5;241m=\u001B[39m (\n\u001B[1;32m    190\u001B[0m     \u001B[38;5;28mself\u001B[39m\u001B[38;5;241m.\u001B[39mNT \u001B[38;5;241m*\u001B[39m \u001B[38;5;28mself\u001B[39m\u001B[38;5;241m.\u001B[39mdelta \u001B[38;5;241m*\u001B[39m (\u001B[38;5;241m1\u001B[39m \u001B[38;5;241m-\u001B[39m eps2) \u001B[38;5;241m*\u001B[39m (T1star \u001B[38;5;241m+\u001B[39m T2star)\n\u001B[1;32m    191\u001B[0m     \u001B[38;5;241m-\u001B[39m \u001B[38;5;28mself\u001B[39m\u001B[38;5;241m.\u001B[39mc \u001B[38;5;241m*\u001B[39m V\n\u001B[0;32m   (...)\u001B[0m\n\u001B[1;32m    196\u001B[0m     \u001B[38;5;241m*\u001B[39m V\n\u001B[1;32m    197\u001B[0m )\n\u001B[1;32m    198\u001B[0m Edot \u001B[38;5;241m=\u001B[39m (\n\u001B[1;32m    199\u001B[0m     \u001B[38;5;28mself\u001B[39m\u001B[38;5;241m.\u001B[39mlambdaE\n\u001B[1;32m    200\u001B[0m     \u001B[38;5;241m+\u001B[39m \u001B[38;5;28mself\u001B[39m\u001B[38;5;241m.\u001B[39mbE \u001B[38;5;241m*\u001B[39m (T1star \u001B[38;5;241m+\u001B[39m T2star) \u001B[38;5;241m*\u001B[39m E \u001B[38;5;241m/\u001B[39m (T1star \u001B[38;5;241m+\u001B[39m T2star \u001B[38;5;241m+\u001B[39m \u001B[38;5;28mself\u001B[39m\u001B[38;5;241m.\u001B[39mKb)\n\u001B[1;32m    201\u001B[0m     \u001B[38;5;241m-\u001B[39m \u001B[38;5;28mself\u001B[39m\u001B[38;5;241m.\u001B[39mdE \u001B[38;5;241m*\u001B[39m (T1star \u001B[38;5;241m+\u001B[39m T2star) \u001B[38;5;241m*\u001B[39m E \u001B[38;5;241m/\u001B[39m (T1star \u001B[38;5;241m+\u001B[39m T2star \u001B[38;5;241m+\u001B[39m \u001B[38;5;28mself\u001B[39m\u001B[38;5;241m.\u001B[39mKd)\n\u001B[1;32m    202\u001B[0m     \u001B[38;5;241m-\u001B[39m \u001B[38;5;28mself\u001B[39m\u001B[38;5;241m.\u001B[39mdeltaE \u001B[38;5;241m*\u001B[39m E\n\u001B[1;32m    203\u001B[0m )\n\u001B[0;32m--> 204\u001B[0m \u001B[38;5;28;01mreturn\u001B[39;00m np\u001B[38;5;241m.\u001B[39marray([T1dot, T1stardot, T2dot, T2stardot, Vdot, Edot])\n",
      "\u001B[0;31mKeyboardInterrupt\u001B[0m: "
     ]
    }
   ],
   "execution_count": 6
  },
  {
   "metadata": {},
   "cell_type": "code",
   "outputs": [],
   "execution_count": null,
   "source": "",
   "id": "e7e4e2e9219e016a"
  }
 ],
 "metadata": {
  "kernelspec": {
   "display_name": "Python 3",
   "language": "python",
   "name": "python3"
  },
  "language_info": {
   "codemirror_mode": {
    "name": "ipython",
    "version": 2
   },
   "file_extension": ".py",
   "mimetype": "text/x-python",
   "name": "python",
   "nbconvert_exporter": "python",
   "pygments_lexer": "ipython2",
   "version": "2.7.6"
  }
 },
 "nbformat": 4,
 "nbformat_minor": 5
}
