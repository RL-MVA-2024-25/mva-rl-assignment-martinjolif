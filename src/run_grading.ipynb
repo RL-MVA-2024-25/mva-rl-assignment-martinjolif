{
 "cells": [
  {
   "cell_type": "code",
   "id": "initial_id",
   "metadata": {
    "collapsed": true,
    "ExecuteTime": {
     "end_time": "2024-12-31T10:46:36.417387Z",
     "start_time": "2024-12-31T10:46:36.413925Z"
    }
   },
   "source": "from grading import test_expected_result_dr_env_1e10, test_expected_result_dr_env_2e10, test_expected_result_dr_env_5e10, test_expected_result_one_env_1e8, test_expected_result_one_env_1e9, test_expected_result_one_env_1e10, test_expected_result_one_env_2e10, test_expected_result_one_env_5e10, test_expected_result_one_env_3432807",
   "outputs": [],
   "execution_count": 13
  },
  {
   "metadata": {
    "ExecuteTime": {
     "end_time": "2024-12-31T09:39:36.866823Z",
     "start_time": "2024-12-31T09:39:36.862559Z"
    }
   },
   "cell_type": "code",
   "source": "cd ..",
   "id": "5d7945112c895197",
   "outputs": [
    {
     "name": "stdout",
     "output_type": "stream",
     "text": [
      "/Users/mjolif/Documents/A-MVA/S1/Projet-RL/GitHub/mva-rl-assignment-martinjolif\n"
     ]
    },
    {
     "name": "stderr",
     "output_type": "stream",
     "text": [
      "/Users/mjolif/Documents/A-MVA/S1/Projet-RL/GitHub/mva-rl-assignment-martinjolif/.venv/lib/python3.11/site-packages/IPython/core/magics/osm.py:417: UserWarning: This is now an optional IPython functionality, setting dhist requires you to install the `pickleshare` library.\n",
      "  self.shell.db['dhist'] = compress_dhist(dhist)[-100:]\n"
     ]
    }
   ],
   "execution_count": 2
  },
  {
   "metadata": {
    "ExecuteTime": {
     "end_time": "2024-12-31T12:04:06.460978Z",
     "start_time": "2024-12-31T12:04:06.454035Z"
    }
   },
   "cell_type": "code",
   "source": "test_expected_result_one_env_3432807()",
   "id": "4e9614ad6968a85a",
   "outputs": [],
   "execution_count": 18
  },
  {
   "metadata": {
    "ExecuteTime": {
     "end_time": "2024-12-31T12:04:07.638209Z",
     "start_time": "2024-12-31T12:04:07.620280Z"
    }
   },
   "cell_type": "code",
   "source": "test_expected_result_one_env_1e8()",
   "id": "5ddba375d3e5999d",
   "outputs": [
    {
     "ename": "AssertionError",
     "evalue": "",
     "output_type": "error",
     "traceback": [
      "\u001B[0;31m---------------------------------------------------------------------------\u001B[0m",
      "\u001B[0;31mAssertionError\u001B[0m                            Traceback (most recent call last)",
      "Cell \u001B[0;32mIn[19], line 1\u001B[0m\n\u001B[0;32m----> 1\u001B[0m \u001B[43mtest_expected_result_one_env_1e8\u001B[49m\u001B[43m(\u001B[49m\u001B[43m)\u001B[49m\n",
      "File \u001B[0;32m~/Documents/A-MVA/S1/Projet-RL/GitHub/mva-rl-assignment-martinjolif/src/grading.py:16\u001B[0m, in \u001B[0;36mtest_expected_result_one_env_1e8\u001B[0;34m()\u001B[0m\n\u001B[1;32m     14\u001B[0m     lines \u001B[38;5;241m=\u001B[39m [\u001B[38;5;28mfloat\u001B[39m(line\u001B[38;5;241m.\u001B[39mrstrip()) \u001B[38;5;28;01mfor\u001B[39;00m line \u001B[38;5;129;01min\u001B[39;00m file]\n\u001B[1;32m     15\u001B[0m one_env_performance \u001B[38;5;241m=\u001B[39m lines[\u001B[38;5;241m0\u001B[39m]\n\u001B[0;32m---> 16\u001B[0m \u001B[38;5;28;01massert\u001B[39;00m one_env_performance \u001B[38;5;241m>\u001B[39m\u001B[38;5;241m=\u001B[39m \u001B[38;5;241m1e8\u001B[39m\n",
      "\u001B[0;31mAssertionError\u001B[0m: "
     ]
    }
   ],
   "execution_count": 19
  },
  {
   "metadata": {
    "ExecuteTime": {
     "end_time": "2024-12-31T10:46:41.243458Z",
     "start_time": "2024-12-31T10:46:41.226816Z"
    }
   },
   "cell_type": "code",
   "source": "test_expected_result_one_env_1e9()",
   "id": "5145d02dd8beaa99",
   "outputs": [
    {
     "ename": "AssertionError",
     "evalue": "",
     "output_type": "error",
     "traceback": [
      "\u001B[0;31m---------------------------------------------------------------------------\u001B[0m",
      "\u001B[0;31mAssertionError\u001B[0m                            Traceback (most recent call last)",
      "Cell \u001B[0;32mIn[16], line 1\u001B[0m\n\u001B[0;32m----> 1\u001B[0m \u001B[43mtest_expected_result_one_env_1e9\u001B[49m\u001B[43m(\u001B[49m\u001B[43m)\u001B[49m\n",
      "File \u001B[0;32m~/Documents/A-MVA/S1/Projet-RL/GitHub/mva-rl-assignment-martinjolif/src/grading.py:23\u001B[0m, in \u001B[0;36mtest_expected_result_one_env_1e9\u001B[0;34m()\u001B[0m\n\u001B[1;32m     21\u001B[0m     lines \u001B[38;5;241m=\u001B[39m [\u001B[38;5;28mfloat\u001B[39m(line\u001B[38;5;241m.\u001B[39mrstrip()) \u001B[38;5;28;01mfor\u001B[39;00m line \u001B[38;5;129;01min\u001B[39;00m file]\n\u001B[1;32m     22\u001B[0m one_env_performance \u001B[38;5;241m=\u001B[39m lines[\u001B[38;5;241m0\u001B[39m]\n\u001B[0;32m---> 23\u001B[0m \u001B[38;5;28;01massert\u001B[39;00m one_env_performance \u001B[38;5;241m>\u001B[39m\u001B[38;5;241m=\u001B[39m \u001B[38;5;241m1e9\u001B[39m\n",
      "\u001B[0;31mAssertionError\u001B[0m: "
     ]
    }
   ],
   "execution_count": 16
  },
  {
   "metadata": {
    "ExecuteTime": {
     "end_time": "2024-12-30T13:20:21.464061Z",
     "start_time": "2024-12-30T13:20:21.450060Z"
    }
   },
   "cell_type": "code",
   "source": "test_expected_result_one_env_1e10()",
   "id": "306a34e273ffb88a",
   "outputs": [
    {
     "ename": "AssertionError",
     "evalue": "",
     "output_type": "error",
     "traceback": [
      "\u001B[0;31m---------------------------------------------------------------------------\u001B[0m",
      "\u001B[0;31mAssertionError\u001B[0m                            Traceback (most recent call last)",
      "Cell \u001B[0;32mIn[13], line 1\u001B[0m\n\u001B[0;32m----> 1\u001B[0m \u001B[43mtest_expected_result_one_env_1e10\u001B[49m\u001B[43m(\u001B[49m\u001B[43m)\u001B[49m\n",
      "File \u001B[0;32m~/Documents/A-MVA/S1/Projet-RL/GitHub/mva-rl-assignment-martinjolif/src/grading.py:30\u001B[0m, in \u001B[0;36mtest_expected_result_one_env_1e10\u001B[0;34m()\u001B[0m\n\u001B[1;32m     28\u001B[0m     lines \u001B[38;5;241m=\u001B[39m [\u001B[38;5;28mfloat\u001B[39m(line\u001B[38;5;241m.\u001B[39mrstrip()) \u001B[38;5;28;01mfor\u001B[39;00m line \u001B[38;5;129;01min\u001B[39;00m file]\n\u001B[1;32m     29\u001B[0m one_env_performance \u001B[38;5;241m=\u001B[39m lines[\u001B[38;5;241m0\u001B[39m]\n\u001B[0;32m---> 30\u001B[0m \u001B[38;5;28;01massert\u001B[39;00m one_env_performance \u001B[38;5;241m>\u001B[39m\u001B[38;5;241m=\u001B[39m \u001B[38;5;241m1e10\u001B[39m\n",
      "\u001B[0;31mAssertionError\u001B[0m: "
     ]
    }
   ],
   "execution_count": 13
  },
  {
   "metadata": {
    "ExecuteTime": {
     "end_time": "2024-12-30T13:19:40.669805Z",
     "start_time": "2024-12-30T13:19:40.654483Z"
    }
   },
   "cell_type": "code",
   "source": "test_expected_result_one_env_2e10()",
   "id": "15417a2707708ef6",
   "outputs": [
    {
     "ename": "AssertionError",
     "evalue": "",
     "output_type": "error",
     "traceback": [
      "\u001B[0;31m---------------------------------------------------------------------------\u001B[0m",
      "\u001B[0;31mAssertionError\u001B[0m                            Traceback (most recent call last)",
      "Cell \u001B[0;32mIn[9], line 1\u001B[0m\n\u001B[0;32m----> 1\u001B[0m \u001B[43mtest_expected_result_one_env_2e10\u001B[49m\u001B[43m(\u001B[49m\u001B[43m)\u001B[49m\n",
      "File \u001B[0;32m~/Documents/A-MVA/S1/Projet-RL/GitHub/mva-rl-assignment-martinjolif/src/grading.py:37\u001B[0m, in \u001B[0;36mtest_expected_result_one_env_2e10\u001B[0;34m()\u001B[0m\n\u001B[1;32m     35\u001B[0m     lines \u001B[38;5;241m=\u001B[39m [\u001B[38;5;28mfloat\u001B[39m(line\u001B[38;5;241m.\u001B[39mrstrip()) \u001B[38;5;28;01mfor\u001B[39;00m line \u001B[38;5;129;01min\u001B[39;00m file]\n\u001B[1;32m     36\u001B[0m one_env_performance \u001B[38;5;241m=\u001B[39m lines[\u001B[38;5;241m0\u001B[39m]\n\u001B[0;32m---> 37\u001B[0m \u001B[38;5;28;01massert\u001B[39;00m one_env_performance \u001B[38;5;241m>\u001B[39m\u001B[38;5;241m=\u001B[39m \u001B[38;5;241m2e10\u001B[39m\n",
      "\u001B[0;31mAssertionError\u001B[0m: "
     ]
    }
   ],
   "execution_count": 9
  },
  {
   "metadata": {
    "ExecuteTime": {
     "end_time": "2024-12-30T13:19:57.014508Z",
     "start_time": "2024-12-30T13:19:56.999774Z"
    }
   },
   "cell_type": "code",
   "source": "test_expected_result_one_env_5e10()",
   "id": "fa0b0889f42cb6f5",
   "outputs": [
    {
     "ename": "AssertionError",
     "evalue": "",
     "output_type": "error",
     "traceback": [
      "\u001B[0;31m---------------------------------------------------------------------------\u001B[0m",
      "\u001B[0;31mAssertionError\u001B[0m                            Traceback (most recent call last)",
      "Cell \u001B[0;32mIn[11], line 1\u001B[0m\n\u001B[0;32m----> 1\u001B[0m \u001B[43mtest_expected_result_one_env_5e10\u001B[49m\u001B[43m(\u001B[49m\u001B[43m)\u001B[49m\n",
      "File \u001B[0;32m~/Documents/A-MVA/S1/Projet-RL/GitHub/mva-rl-assignment-martinjolif/src/grading.py:44\u001B[0m, in \u001B[0;36mtest_expected_result_one_env_5e10\u001B[0;34m()\u001B[0m\n\u001B[1;32m     42\u001B[0m     lines \u001B[38;5;241m=\u001B[39m [\u001B[38;5;28mfloat\u001B[39m(line\u001B[38;5;241m.\u001B[39mrstrip()) \u001B[38;5;28;01mfor\u001B[39;00m line \u001B[38;5;129;01min\u001B[39;00m file]\n\u001B[1;32m     43\u001B[0m one_env_performance \u001B[38;5;241m=\u001B[39m lines[\u001B[38;5;241m0\u001B[39m]\n\u001B[0;32m---> 44\u001B[0m \u001B[38;5;28;01massert\u001B[39;00m one_env_performance \u001B[38;5;241m>\u001B[39m\u001B[38;5;241m=\u001B[39m \u001B[38;5;241m5e10\u001B[39m\n",
      "\u001B[0;31mAssertionError\u001B[0m: "
     ]
    }
   ],
   "execution_count": 11
  },
  {
   "metadata": {
    "ExecuteTime": {
     "end_time": "2024-12-31T10:46:44.513334Z",
     "start_time": "2024-12-31T10:46:44.499637Z"
    }
   },
   "cell_type": "code",
   "source": "test_expected_result_dr_env_1e10()",
   "id": "a31c45b95a97a193",
   "outputs": [
    {
     "ename": "AssertionError",
     "evalue": "",
     "output_type": "error",
     "traceback": [
      "\u001B[0;31m---------------------------------------------------------------------------\u001B[0m",
      "\u001B[0;31mAssertionError\u001B[0m                            Traceback (most recent call last)",
      "Cell \u001B[0;32mIn[17], line 1\u001B[0m\n\u001B[0;32m----> 1\u001B[0m \u001B[43mtest_expected_result_dr_env_1e10\u001B[49m\u001B[43m(\u001B[49m\u001B[43m)\u001B[49m\n",
      "File \u001B[0;32m~/Documents/A-MVA/S1/Projet-RL/GitHub/mva-rl-assignment-martinjolif/src/grading.py:52\u001B[0m, in \u001B[0;36mtest_expected_result_dr_env_1e10\u001B[0;34m()\u001B[0m\n\u001B[1;32m     50\u001B[0m     lines \u001B[38;5;241m=\u001B[39m [\u001B[38;5;28mfloat\u001B[39m(line\u001B[38;5;241m.\u001B[39mrstrip()) \u001B[38;5;28;01mfor\u001B[39;00m line \u001B[38;5;129;01min\u001B[39;00m file]\n\u001B[1;32m     51\u001B[0m dr_env_performance \u001B[38;5;241m=\u001B[39m lines[\u001B[38;5;241m1\u001B[39m]\n\u001B[0;32m---> 52\u001B[0m \u001B[38;5;28;01massert\u001B[39;00m dr_env_performance \u001B[38;5;241m>\u001B[39m\u001B[38;5;241m=\u001B[39m \u001B[38;5;241m1e10\u001B[39m\n",
      "\u001B[0;31mAssertionError\u001B[0m: "
     ]
    }
   ],
   "execution_count": 17
  },
  {
   "metadata": {
    "ExecuteTime": {
     "end_time": "2024-12-30T13:20:33.338009Z",
     "start_time": "2024-12-30T13:20:33.323816Z"
    }
   },
   "cell_type": "code",
   "source": "test_expected_result_dr_env_2e10()",
   "id": "c25fd0a3e727d2d5",
   "outputs": [
    {
     "ename": "AssertionError",
     "evalue": "",
     "output_type": "error",
     "traceback": [
      "\u001B[0;31m---------------------------------------------------------------------------\u001B[0m",
      "\u001B[0;31mAssertionError\u001B[0m                            Traceback (most recent call last)",
      "Cell \u001B[0;32mIn[14], line 1\u001B[0m\n\u001B[0;32m----> 1\u001B[0m \u001B[43mtest_expected_result_dr_env_2e10\u001B[49m\u001B[43m(\u001B[49m\u001B[43m)\u001B[49m\n",
      "File \u001B[0;32m~/Documents/A-MVA/S1/Projet-RL/GitHub/mva-rl-assignment-martinjolif/src/grading.py:59\u001B[0m, in \u001B[0;36mtest_expected_result_dr_env_2e10\u001B[0;34m()\u001B[0m\n\u001B[1;32m     57\u001B[0m     lines \u001B[38;5;241m=\u001B[39m [\u001B[38;5;28mfloat\u001B[39m(line\u001B[38;5;241m.\u001B[39mrstrip()) \u001B[38;5;28;01mfor\u001B[39;00m line \u001B[38;5;129;01min\u001B[39;00m file]\n\u001B[1;32m     58\u001B[0m dr_env_performance \u001B[38;5;241m=\u001B[39m lines[\u001B[38;5;241m1\u001B[39m]\n\u001B[0;32m---> 59\u001B[0m \u001B[38;5;28;01massert\u001B[39;00m dr_env_performance \u001B[38;5;241m>\u001B[39m\u001B[38;5;241m=\u001B[39m \u001B[38;5;241m2e10\u001B[39m\n",
      "\u001B[0;31mAssertionError\u001B[0m: "
     ]
    }
   ],
   "execution_count": 14
  },
  {
   "metadata": {
    "ExecuteTime": {
     "end_time": "2024-12-30T13:20:10.786420Z",
     "start_time": "2024-12-30T13:20:10.770035Z"
    }
   },
   "cell_type": "code",
   "source": "test_expected_result_dr_env_5e10()",
   "id": "42e8a9a605098ee3",
   "outputs": [
    {
     "ename": "AssertionError",
     "evalue": "",
     "output_type": "error",
     "traceback": [
      "\u001B[0;31m---------------------------------------------------------------------------\u001B[0m",
      "\u001B[0;31mAssertionError\u001B[0m                            Traceback (most recent call last)",
      "Cell \u001B[0;32mIn[12], line 1\u001B[0m\n\u001B[0;32m----> 1\u001B[0m \u001B[43mtest_expected_result_dr_env_5e10\u001B[49m\u001B[43m(\u001B[49m\u001B[43m)\u001B[49m\n",
      "File \u001B[0;32m~/Documents/A-MVA/S1/Projet-RL/GitHub/mva-rl-assignment-martinjolif/src/grading.py:66\u001B[0m, in \u001B[0;36mtest_expected_result_dr_env_5e10\u001B[0;34m()\u001B[0m\n\u001B[1;32m     64\u001B[0m     lines \u001B[38;5;241m=\u001B[39m [\u001B[38;5;28mfloat\u001B[39m(line\u001B[38;5;241m.\u001B[39mrstrip()) \u001B[38;5;28;01mfor\u001B[39;00m line \u001B[38;5;129;01min\u001B[39;00m file]\n\u001B[1;32m     65\u001B[0m dr_env_performance \u001B[38;5;241m=\u001B[39m lines[\u001B[38;5;241m1\u001B[39m]\n\u001B[0;32m---> 66\u001B[0m \u001B[38;5;28;01massert\u001B[39;00m dr_env_performance \u001B[38;5;241m>\u001B[39m\u001B[38;5;241m=\u001B[39m \u001B[38;5;241m5e10\u001B[39m\n",
      "\u001B[0;31mAssertionError\u001B[0m: "
     ]
    }
   ],
   "execution_count": 12
  }
 ],
 "metadata": {
  "kernelspec": {
   "display_name": "Python 3",
   "language": "python",
   "name": "python3"
  },
  "language_info": {
   "codemirror_mode": {
    "name": "ipython",
    "version": 2
   },
   "file_extension": ".py",
   "mimetype": "text/x-python",
   "name": "python",
   "nbconvert_exporter": "python",
   "pygments_lexer": "ipython2",
   "version": "2.7.6"
  }
 },
 "nbformat": 4,
 "nbformat_minor": 5
}
