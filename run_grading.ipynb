{
 "cells": [
  {
   "cell_type": "code",
   "id": "initial_id",
   "metadata": {
    "collapsed": true,
    "ExecuteTime": {
     "end_time": "2025-01-03T11:05:16.936155Z",
     "start_time": "2025-01-03T11:05:16.933440Z"
    }
   },
   "source": "from src.grading import test_expected_result_dr_env_1e10, test_expected_result_dr_env_2e10, test_expected_result_dr_env_5e10, test_expected_result_one_env_1e8, test_expected_result_one_env_1e9, test_expected_result_one_env_1e10, test_expected_result_one_env_2e10, test_expected_result_one_env_5e10, test_expected_result_one_env_3432807",
   "outputs": [],
   "execution_count": 28
  },
  {
   "metadata": {
    "ExecuteTime": {
     "end_time": "2025-01-03T11:05:16.948477Z",
     "start_time": "2025-01-03T11:05:16.946134Z"
    }
   },
   "cell_type": "code",
   "source": "test_expected_result_one_env_3432807()",
   "id": "4e9614ad6968a85a",
   "outputs": [],
   "execution_count": 29
  },
  {
   "metadata": {
    "ExecuteTime": {
     "end_time": "2025-01-03T11:05:16.958872Z",
     "start_time": "2025-01-03T11:05:16.956192Z"
    }
   },
   "cell_type": "code",
   "source": "test_expected_result_one_env_1e8()",
   "id": "5ddba375d3e5999d",
   "outputs": [],
   "execution_count": 30
  },
  {
   "metadata": {
    "ExecuteTime": {
     "end_time": "2025-01-03T11:05:16.972162Z",
     "start_time": "2025-01-03T11:05:16.970321Z"
    }
   },
   "cell_type": "code",
   "source": "test_expected_result_one_env_1e9()",
   "id": "5145d02dd8beaa99",
   "outputs": [],
   "execution_count": 31
  },
  {
   "metadata": {
    "ExecuteTime": {
     "end_time": "2025-01-03T11:05:16.980580Z",
     "start_time": "2025-01-03T11:05:16.978780Z"
    }
   },
   "cell_type": "code",
   "source": "test_expected_result_one_env_1e10()",
   "id": "306a34e273ffb88a",
   "outputs": [],
   "execution_count": 32
  },
  {
   "metadata": {
    "ExecuteTime": {
     "end_time": "2025-01-03T11:05:16.987864Z",
     "start_time": "2025-01-03T11:05:16.985974Z"
    }
   },
   "cell_type": "code",
   "source": "test_expected_result_one_env_2e10()",
   "id": "15417a2707708ef6",
   "outputs": [],
   "execution_count": 33
  },
  {
   "metadata": {
    "ExecuteTime": {
     "end_time": "2025-01-03T11:05:17.002407Z",
     "start_time": "2025-01-03T11:05:16.994159Z"
    }
   },
   "cell_type": "code",
   "source": "test_expected_result_one_env_5e10()",
   "id": "fa0b0889f42cb6f5",
   "outputs": [
    {
     "ename": "AssertionError",
     "evalue": "",
     "output_type": "error",
     "traceback": [
      "\u001B[0;31m---------------------------------------------------------------------------\u001B[0m",
      "\u001B[0;31mAssertionError\u001B[0m                            Traceback (most recent call last)",
      "Cell \u001B[0;32mIn[34], line 1\u001B[0m\n\u001B[0;32m----> 1\u001B[0m \u001B[43mtest_expected_result_one_env_5e10\u001B[49m\u001B[43m(\u001B[49m\u001B[43m)\u001B[49m\n",
      "File \u001B[0;32m~/Documents/A-MVA/S1/Projet-RL/GitHub/mva-rl-assignment-martinjolif/src/grading.py:44\u001B[0m, in \u001B[0;36mtest_expected_result_one_env_5e10\u001B[0;34m()\u001B[0m\n\u001B[1;32m     42\u001B[0m     lines \u001B[38;5;241m=\u001B[39m [\u001B[38;5;28mfloat\u001B[39m(line\u001B[38;5;241m.\u001B[39mrstrip()) \u001B[38;5;28;01mfor\u001B[39;00m line \u001B[38;5;129;01min\u001B[39;00m file]\n\u001B[1;32m     43\u001B[0m one_env_performance \u001B[38;5;241m=\u001B[39m lines[\u001B[38;5;241m0\u001B[39m]\n\u001B[0;32m---> 44\u001B[0m \u001B[38;5;28;01massert\u001B[39;00m one_env_performance \u001B[38;5;241m>\u001B[39m\u001B[38;5;241m=\u001B[39m \u001B[38;5;241m5e10\u001B[39m\n",
      "\u001B[0;31mAssertionError\u001B[0m: "
     ]
    }
   ],
   "execution_count": 34
  },
  {
   "metadata": {
    "ExecuteTime": {
     "end_time": "2025-01-03T11:05:20.442740Z",
     "start_time": "2025-01-03T11:05:20.439837Z"
    }
   },
   "cell_type": "code",
   "source": "test_expected_result_dr_env_1e10()",
   "id": "a31c45b95a97a193",
   "outputs": [],
   "execution_count": 35
  },
  {
   "metadata": {
    "ExecuteTime": {
     "end_time": "2025-01-03T11:05:21.871560Z",
     "start_time": "2025-01-03T11:05:21.867853Z"
    }
   },
   "cell_type": "code",
   "source": "test_expected_result_dr_env_2e10()",
   "id": "c25fd0a3e727d2d5",
   "outputs": [],
   "execution_count": 36
  },
  {
   "metadata": {
    "ExecuteTime": {
     "end_time": "2025-01-03T11:05:22.835423Z",
     "start_time": "2025-01-03T11:05:22.820050Z"
    }
   },
   "cell_type": "code",
   "source": "test_expected_result_dr_env_5e10()",
   "id": "42e8a9a605098ee3",
   "outputs": [
    {
     "ename": "AssertionError",
     "evalue": "",
     "output_type": "error",
     "traceback": [
      "\u001B[0;31m---------------------------------------------------------------------------\u001B[0m",
      "\u001B[0;31mAssertionError\u001B[0m                            Traceback (most recent call last)",
      "Cell \u001B[0;32mIn[37], line 1\u001B[0m\n\u001B[0;32m----> 1\u001B[0m \u001B[43mtest_expected_result_dr_env_5e10\u001B[49m\u001B[43m(\u001B[49m\u001B[43m)\u001B[49m\n",
      "File \u001B[0;32m~/Documents/A-MVA/S1/Projet-RL/GitHub/mva-rl-assignment-martinjolif/src/grading.py:66\u001B[0m, in \u001B[0;36mtest_expected_result_dr_env_5e10\u001B[0;34m()\u001B[0m\n\u001B[1;32m     64\u001B[0m     lines \u001B[38;5;241m=\u001B[39m [\u001B[38;5;28mfloat\u001B[39m(line\u001B[38;5;241m.\u001B[39mrstrip()) \u001B[38;5;28;01mfor\u001B[39;00m line \u001B[38;5;129;01min\u001B[39;00m file]\n\u001B[1;32m     65\u001B[0m dr_env_performance \u001B[38;5;241m=\u001B[39m lines[\u001B[38;5;241m1\u001B[39m]\n\u001B[0;32m---> 66\u001B[0m \u001B[38;5;28;01massert\u001B[39;00m dr_env_performance \u001B[38;5;241m>\u001B[39m\u001B[38;5;241m=\u001B[39m \u001B[38;5;241m5e10\u001B[39m\n",
      "\u001B[0;31mAssertionError\u001B[0m: "
     ]
    }
   ],
   "execution_count": 37
  }
 ],
 "metadata": {
  "kernelspec": {
   "display_name": "Python 3",
   "language": "python",
   "name": "python3"
  },
  "language_info": {
   "codemirror_mode": {
    "name": "ipython",
    "version": 2
   },
   "file_extension": ".py",
   "mimetype": "text/x-python",
   "name": "python",
   "nbconvert_exporter": "python",
   "pygments_lexer": "ipython2",
   "version": "2.7.6"
  }
 },
 "nbformat": 4,
 "nbformat_minor": 5
}
